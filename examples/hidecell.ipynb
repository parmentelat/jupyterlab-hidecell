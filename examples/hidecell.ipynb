{
 "cells": [
  {
   "cell_type": "markdown",
   "id": "172a761d-2abd-4eb3-91f3-def1e740188c",
   "metadata": {
    "editable": true,
    "slideshow": {
     "slide_type": ""
    },
    "tags": []
   },
   "source": [
    "# porting hide-input"
   ]
  },
  {
   "cell_type": "markdown",
   "id": "63452deb-183f-4b20-b8d3-efdeb71819cc",
   "metadata": {
    "editable": true,
    "slideshow": {
     "slide_type": ""
    },
    "tags": []
   },
   "source": [
    "in nb6 there used to be a nbextension called `split-cell`  \n",
    "which allowed some fancier layout, based on a cell's metadata:\n",
    "\n",
    "* with `hide_input: true` the cell input was hidden\n",
    "* there was also `hide_output: true` and similar\n",
    "\n",
    "\n",
    "we reimplement similar function but using only metadata tags, and in accordance with jupyter book's convention as described here\n",
    "<https://jupyterbook.org/en/stable/interactive/hiding.html#hide-code-cell-content>\n",
    "\n",
    "this mostly applies to code cells, as markdown has its own set of tools for dealing with this\n",
    "\n",
    "so let's start with only code cells for now\n",
    "\n",
    "make sure to Run All Cells in case of any doubt"
   ]
  },
  {
   "cell_type": "markdown",
   "id": "ae9192a6-3728-4fef-a433-42b3575163bb",
   "metadata": {
    "editable": true,
    "slideshow": {
     "slide_type": ""
    },
    "tags": []
   },
   "source": [
    "## hiding (content still visible)\n",
    "\n",
    "for now, we have the `hide-*` tags behave just like `remove-*`"
   ]
  },
  {
   "cell_type": "code",
   "execution_count": 6,
   "id": "bc3c32e8-1599-41e4-a229-870a7e99aea9",
   "metadata": {
    "editable": true,
    "slideshow": {
     "slide_type": ""
    },
    "tags": [
     "hide-input"
    ]
   },
   "outputs": [
    {
     "name": "stdout",
     "output_type": "stream",
     "text": [
      "hide-input\n"
     ]
    }
   ],
   "source": [
    "# hide-input\n",
    "print(\"hide-input\")"
   ]
  },
  {
   "cell_type": "code",
   "execution_count": 7,
   "id": "38673d76-dd34-47c2-9c87-110b4ca561b7",
   "metadata": {
    "editable": true,
    "slideshow": {
     "slide_type": ""
    },
    "tags": [
     "hide-output"
    ]
   },
   "outputs": [
    {
     "name": "stdout",
     "output_type": "stream",
     "text": [
      "hide-output\n"
     ]
    }
   ],
   "source": [
    "# hide-output\n",
    "print(\"hide-output\")"
   ]
  },
  {
   "cell_type": "code",
   "execution_count": 8,
   "id": "f65afb4b-fdb0-4c8f-a46c-32e8fefd3081",
   "metadata": {
    "editable": true,
    "slideshow": {
     "slide_type": ""
    },
    "tags": [
     "hide-cell"
    ]
   },
   "outputs": [
    {
     "name": "stdout",
     "output_type": "stream",
     "text": [
      "hide-cell\n"
     ]
    }
   ],
   "source": [
    "# hide-cell\n",
    "print(\"hide-cell\")"
   ]
  },
  {
   "cell_type": "markdown",
   "id": "374db8e3-c07e-4752-83fa-332b0089c447",
   "metadata": {
    "editable": true,
    "slideshow": {
     "slide_type": ""
    },
    "tags": []
   },
   "source": [
    "## removing (content gone altogether)"
   ]
  },
  {
   "cell_type": "markdown",
   "id": "80a899c6-060e-4c2d-b332-d2db75058e8b",
   "metadata": {
    "editable": true,
    "slideshow": {
     "slide_type": ""
    },
    "tags": []
   },
   "source": [
    "here expect just the printed output  \n",
    "↓↓↓↓↓↓↓↓↓↓↓↓↓↓↓↓↓↓↓↓↓↓↓↓↓↓↓↓↓↓↓↓↓↓↓↓↓↓↓↓↓"
   ]
  },
  {
   "cell_type": "code",
   "execution_count": 9,
   "id": "d8834c62-fa28-4e73-aaab-8d52c9a71d17",
   "metadata": {
    "editable": true,
    "slideshow": {
     "slide_type": ""
    },
    "tags": [
     "remove-input"
    ]
   },
   "outputs": [
    {
     "name": "stdout",
     "output_type": "stream",
     "text": [
      "remove-input\n"
     ]
    }
   ],
   "source": [
    "# remove-input\n",
    "print(\"remove-input\")"
   ]
  },
  {
   "cell_type": "markdown",
   "id": "8bb05125-147f-4ccd-901f-25bf9f6740f4",
   "metadata": {
    "editable": true,
    "slideshow": {
     "slide_type": ""
    },
    "tags": []
   },
   "source": [
    "here expect just the cell and no output  \n",
    "↓↓↓↓↓↓↓↓↓↓↓↓↓↓↓↓↓↓↓↓↓↓↓↓↓↓↓↓↓↓↓↓↓↓↓↓↓↓↓↓↓"
   ]
  },
  {
   "cell_type": "code",
   "execution_count": 12,
   "id": "6e10eed8-3094-4235-b573-fcd8abf54930",
   "metadata": {
    "editable": true,
    "slideshow": {
     "slide_type": ""
    },
    "tags": [
     "remove-output"
    ]
   },
   "outputs": [
    {
     "name": "stdout",
     "output_type": "stream",
     "text": [
      "remove-output\n"
     ]
    }
   ],
   "source": [
    "# remove-output\n",
    "print(\"remove-output\")"
   ]
  },
  {
   "cell_type": "markdown",
   "id": "cb9f7aea-8c05-481c-9987-bd1d49b0048a",
   "metadata": {
    "editable": true,
    "slideshow": {
     "slide_type": ""
    },
    "tags": []
   },
   "source": [
    "below we have a totally hidden cell  \n",
    "↓↓↓↓↓↓↓↓↓↓↓↓↓↓↓↓↓↓↓↓↓↓↓↓↓↓↓↓↓↓↓↓↓↓↓↓↓↓↓↓↓"
   ]
  },
  {
   "cell_type": "code",
   "execution_count": 11,
   "id": "ac399ec5-022c-466b-9e35-3a43e2c54886",
   "metadata": {
    "editable": true,
    "slideshow": {
     "slide_type": ""
    },
    "tags": [
     "remove-cell"
    ]
   },
   "outputs": [
    {
     "name": "stdout",
     "output_type": "stream",
     "text": [
      "remove-cell\n"
     ]
    }
   ],
   "source": [
    "# remove-cell\n",
    "print(\"remove-cell\")"
   ]
  },
  {
   "cell_type": "markdown",
   "id": "0b1e8f97-81d8-4a3c-b701-a2dcc2a88bb0",
   "metadata": {
    "editable": true,
    "slideshow": {
     "slide_type": ""
    },
    "tags": []
   },
   "source": [
    "↑↑↑↑↑↑↑↑↑↑↑↑↑↑↑↑↑↑↑↑↑↑↑↑↑↑↑↑↑↑↑↑↑↑↑↑↑↑↑↑↑  \n",
    "above we have a totally hidden cell"
   ]
  }
 ],
 "metadata": {
  "kernelspec": {
   "display_name": "Python 3 (ipykernel)",
   "language": "python",
   "name": "python3"
  },
  "language_info": {
   "codemirror_mode": {
    "name": "ipython",
    "version": 3
   },
   "file_extension": ".py",
   "mimetype": "text/x-python",
   "name": "python",
   "nbconvert_exporter": "python",
   "pygments_lexer": "ipython3",
   "version": "3.11.6"
  }
 },
 "nbformat": 4,
 "nbformat_minor": 5
}
